{
 "cells": [
  {
   "cell_type": "code",
   "execution_count": null,
   "metadata": {
    "vscode": {
     "languageId": "ini"
    }
   },
   "outputs": [],
   "source": [
    "import numpy as np\n",
    "import matplotlib.pyplot as plt\n",
    "\n",
    "# 設置參數\n",
    "P_max = 10  # 最大充電功率 (kW)\n",
    "T = 120     # 總充電時間 (分鐘)\n",
    "T_ramp = 20 # 上升和下降的時間段 (分鐘)\n",
    "\n",
    "# 生成時間序列，從0到T分鐘\n",
    "t = np.linspace(0, T, T + 1)\n",
    "\n",
    "# 計算充電功率\n",
    "P_t = np.zeros_like(t)\n",
    "# 上升階段\n",
    "P_t[t < T_ramp] = (P_max / T_ramp) * t[t < T_ramp]\n",
    "# 穩定階段\n",
    "P_t[(t >= T_ramp) & (t <= T - T_ramp)] = P_max\n",
    "# 下降階段，確保從P_max線性減少至0\n",
    "P_t[t > T - T_ramp] = - (P_max / T_ramp) * (t[t > T - T_ramp] - (T - T_ramp)) + P_max\n",
    "\n",
    "# 繪製充電功率曲線\n",
    "plt.figure(figsize=(10, 5))\n",
    "plt.plot(t, P_t, label='充電功率 (kW)')\n",
    "plt.title('充電功率曲線')\n",
    "plt.xlabel('時間 (分鐘)')\n",
    "plt.ylabel('功率 (kW)')\n",
    "plt.grid(True)\n",
    "plt.legend()\n",
    "plt.show()\n"
   ]
  }
 ],
 "metadata": {
  "language_info": {
   "name": "python"
  }
 },
 "nbformat": 4,
 "nbformat_minor": 2
}
